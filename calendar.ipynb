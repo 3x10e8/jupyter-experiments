{
 "cells": [
  {
   "cell_type": "code",
   "execution_count": 1,
   "metadata": {},
   "outputs": [],
   "source": [
    "import datetime\n",
    "# https://blink.ucsd.edu/instructors/courses/enrollment/calendars/index.html"
   ]
  },
  {
   "cell_type": "code",
   "execution_count": 10,
   "metadata": {},
   "outputs": [
    {
     "data": {
      "text/plain": [
       "1"
      ]
     },
     "execution_count": 10,
     "metadata": {},
     "output_type": "execute_result"
    }
   ],
   "source": [
    "qStart = datetime.date(2011, 9, 20)\n",
    "qStart.weekday()"
   ]
  },
  {
   "cell_type": "code",
   "execution_count": 21,
   "metadata": {},
   "outputs": [],
   "source": [
    "qDuration = datetime.timedelta(days=-2, weeks=12)\n",
    "# 10 weeks of classes\n",
    "# 1 finals week\n",
    "# -2 days to end the quarter on Saturday of finals week"
   ]
  },
  {
   "cell_type": "code",
   "execution_count": 22,
   "metadata": {},
   "outputs": [
    {
     "data": {
      "text/plain": [
       "'2011-12-11'"
      ]
     },
     "execution_count": 22,
     "metadata": {},
     "output_type": "execute_result"
    }
   ],
   "source": [
    "qEnd = qStart + qDuration\n",
    "qEnd.weekday()\n",
    "qEnd.isoformat()"
   ]
  },
  {
   "cell_type": "code",
   "execution_count": 51,
   "metadata": {},
   "outputs": [
    {
     "name": "stdout",
     "output_type": "stream",
     "text": [
      "2014-09-22 2014-12-13 2015-01-05 2015-03-21 2015-03-30 2015-06-13\n",
      "2015-09-21 2015-12-12 2016-01-04 2016-03-19 2016-03-28 2016-06-11\n",
      "2016-09-19 2016-12-10 2017-01-02 2017-03-18 2017-03-27 2017-06-10\n",
      "2017-09-25 2017-12-16 2018-01-08 2018-03-24 2018-04-02 2018-06-16\n",
      "2018-09-24 2018-12-15 2019-01-07 2019-03-23 2019-04-01 2019-06-15\n",
      "2019-09-23 2019-12-14 2020-01-06 2020-03-21 2020-03-30 2020-06-13\n",
      "2020-09-21 2020-12-12 2021-01-04 2021-03-20 2021-03-29 2021-06-12\n",
      "2021-09-20 2021-12-11 2022-01-03 2022-03-19 2022-03-28 2022-06-11\n",
      "2022-09-19 2022-12-10 2023-01-02 2023-03-18 2023-03-27 2023-06-10\n",
      "2023-09-25 2023-12-16 2024-01-08 2024-03-23 2024-04-01 2024-06-15\n",
      "2024-09-23 2024-12-14 2025-01-06 2025-03-22 2025-03-31 2025-06-14\n",
      "2025-09-22 2025-12-13 2026-01-05 2026-03-21 2026-03-30 2026-06-13\n"
     ]
    }
   ],
   "source": [
    "for year in [2014, 2015, 2016, 2017, 2018, 2019, 2020, \n",
    "             2021, 2022, 2023, 2024, 2025]:\n",
    "    \n",
    "    # Fall Quarter\n",
    "    faDuration = datetime.timedelta(days=-2, weeks=12)\n",
    "    \n",
    "    # Fall Start\n",
    "    ## Go backwards from Sep30 to find second-last Monday\n",
    "    foundMonday = 0\n",
    "    day = 30 # assume Jan1 is a holiday\n",
    "    while (day >= 19) and (foundMonday < 2):\n",
    "        faStart = datetime.date(year, 9, day)\n",
    "        #print(faStart.isoformat(), faStart.weekday())\n",
    "        if faStart.weekday() == 0:    \n",
    "            foundMonday += 1\n",
    "            faStartDay = int(day)\n",
    "        day -= 1 # check next day\n",
    "    faStart = datetime.date(year, 9, faStartDay) # in case its last Monday\n",
    "    faEnd = faStart + faDuration \n",
    "    \n",
    "    year += 1\n",
    "    \n",
    "    # Winter Quarter\n",
    "    wDuration = datetime.timedelta(days=-2, weeks=11)\n",
    "    \n",
    "    # Winter Start\n",
    "    ## Go through days after Jan 1 to find first Monday of classes\n",
    "    foundMonday = False\n",
    "    day = 2 # assume Jan1 is a holiday\n",
    "    while not foundMonday:\n",
    "        wStart = datetime.date(year, 1, day)\n",
    "        if wStart.weekday() != 0:\n",
    "            day += 1 # check next day\n",
    "        else:\n",
    "            foundMonday = True        \n",
    "    wEnd = wStart + wDuration\n",
    "    \n",
    "    # Spring Quarter\n",
    "    spDuration = datetime.timedelta(days=-2, weeks=11)\n",
    "    \n",
    "    # Spring Start\n",
    "    ## Start one week after winter quarter's end\n",
    "    spStart = wEnd + datetime.timedelta(weeks=1, days=2)\n",
    "    # offset by 2 to cover the weekend\n",
    "    spEnd = spStart + spDuration\n",
    "    \n",
    "    print(faStart.isoformat(), faEnd.isoformat(), \n",
    "          wStart.isoformat(), wEnd.isoformat(),\n",
    "          spStart.isoformat(), spEnd.isoformat())"
   ]
  },
  {
   "cell_type": "code",
   "execution_count": null,
   "metadata": {},
   "outputs": [],
   "source": []
  }
 ],
 "metadata": {
  "kernelspec": {
   "display_name": "Python 3",
   "language": "python",
   "name": "python3"
  },
  "language_info": {
   "codemirror_mode": {
    "name": "ipython",
    "version": 3
   },
   "file_extension": ".py",
   "mimetype": "text/x-python",
   "name": "python",
   "nbconvert_exporter": "python",
   "pygments_lexer": "ipython3",
   "version": "3.7.3"
  }
 },
 "nbformat": 4,
 "nbformat_minor": 2
}
