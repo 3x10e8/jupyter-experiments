{
 "cells": [
  {
   "cell_type": "code",
   "execution_count": 103,
   "metadata": {},
   "outputs": [],
   "source": [
    "import pandas as pd"
   ]
  },
  {
   "cell_type": "markdown",
   "metadata": {},
   "source": [
    "#### Generate Data"
   ]
  },
  {
   "cell_type": "code",
   "execution_count": 104,
   "metadata": {},
   "outputs": [],
   "source": [
    "d1 = {'file': ['study1.txt']*2, \n",
    "     'mz': [89.1, 90.2],\n",
    "     'kegID': range(2)}\n",
    "d2 = {'file': ['batch2.txt']*3, \n",
    "     'mz': [300.45, 80.1, 90.2],\n",
    "     'kegID': range(4, 7)}\n",
    "d3 = {'file': ['batch3.txt']*3, \n",
    "     'mz': [300.45, 80.1, 90.2],\n",
    "     'kegID': range(4, 7)}\n",
    "d4 = {'file': ['batch4.txt']*3, \n",
    "     'mz': [30.45, 0.1, 90.2],\n",
    "     'kegID': range(5, 8)}\n",
    "d5 = {'file': ['batch5.txt']*3, \n",
    "     'mz': [3.45, 8.1, 90.2],\n",
    "     'kegID': range(1, 4)}\n",
    "\n"
   ]
  },
  {
   "cell_type": "markdown",
   "metadata": {},
   "source": [
    "#### Import data to pandas dataframes"
   ]
  },
  {
   "cell_type": "code",
   "execution_count": 105,
   "metadata": {},
   "outputs": [],
   "source": [
    "d1 = pd.DataFrame(data=d1)\n",
    "d2 = pd.DataFrame(data=d2)\n",
    "d3 = pd.DataFrame(data=d3)\n",
    "d4 = pd.DataFrame(data=d4)\n",
    "d5 = pd.DataFrame(data=d5)"
   ]
  },
  {
   "cell_type": "markdown",
   "metadata": {},
   "source": [
    "#### Row-wise merge all files to one dataframe"
   ]
  },
  {
   "cell_type": "code",
   "execution_count": 106,
   "metadata": {},
   "outputs": [
    {
     "data": {
      "text/html": [
       "<div>\n",
       "<style scoped>\n",
       "    .dataframe tbody tr th:only-of-type {\n",
       "        vertical-align: middle;\n",
       "    }\n",
       "\n",
       "    .dataframe tbody tr th {\n",
       "        vertical-align: top;\n",
       "    }\n",
       "\n",
       "    .dataframe thead th {\n",
       "        text-align: right;\n",
       "    }\n",
       "</style>\n",
       "<table border=\"1\" class=\"dataframe\">\n",
       "  <thead>\n",
       "    <tr style=\"text-align: right;\">\n",
       "      <th></th>\n",
       "      <th>file</th>\n",
       "      <th>mz</th>\n",
       "      <th>kegID</th>\n",
       "    </tr>\n",
       "  </thead>\n",
       "  <tbody>\n",
       "    <tr>\n",
       "      <th>0</th>\n",
       "      <td>study1.txt</td>\n",
       "      <td>89.10</td>\n",
       "      <td>0</td>\n",
       "    </tr>\n",
       "    <tr>\n",
       "      <th>1</th>\n",
       "      <td>study1.txt</td>\n",
       "      <td>90.20</td>\n",
       "      <td>1</td>\n",
       "    </tr>\n",
       "    <tr>\n",
       "      <th>0</th>\n",
       "      <td>batch2.txt</td>\n",
       "      <td>300.45</td>\n",
       "      <td>4</td>\n",
       "    </tr>\n",
       "    <tr>\n",
       "      <th>1</th>\n",
       "      <td>batch2.txt</td>\n",
       "      <td>80.10</td>\n",
       "      <td>5</td>\n",
       "    </tr>\n",
       "    <tr>\n",
       "      <th>2</th>\n",
       "      <td>batch2.txt</td>\n",
       "      <td>90.20</td>\n",
       "      <td>6</td>\n",
       "    </tr>\n",
       "    <tr>\n",
       "      <th>0</th>\n",
       "      <td>batch3.txt</td>\n",
       "      <td>300.45</td>\n",
       "      <td>4</td>\n",
       "    </tr>\n",
       "    <tr>\n",
       "      <th>1</th>\n",
       "      <td>batch3.txt</td>\n",
       "      <td>80.10</td>\n",
       "      <td>5</td>\n",
       "    </tr>\n",
       "    <tr>\n",
       "      <th>2</th>\n",
       "      <td>batch3.txt</td>\n",
       "      <td>90.20</td>\n",
       "      <td>6</td>\n",
       "    </tr>\n",
       "    <tr>\n",
       "      <th>0</th>\n",
       "      <td>batch4.txt</td>\n",
       "      <td>30.45</td>\n",
       "      <td>5</td>\n",
       "    </tr>\n",
       "    <tr>\n",
       "      <th>1</th>\n",
       "      <td>batch4.txt</td>\n",
       "      <td>0.10</td>\n",
       "      <td>6</td>\n",
       "    </tr>\n",
       "    <tr>\n",
       "      <th>2</th>\n",
       "      <td>batch4.txt</td>\n",
       "      <td>90.20</td>\n",
       "      <td>7</td>\n",
       "    </tr>\n",
       "    <tr>\n",
       "      <th>0</th>\n",
       "      <td>batch5.txt</td>\n",
       "      <td>3.45</td>\n",
       "      <td>1</td>\n",
       "    </tr>\n",
       "    <tr>\n",
       "      <th>1</th>\n",
       "      <td>batch5.txt</td>\n",
       "      <td>8.10</td>\n",
       "      <td>2</td>\n",
       "    </tr>\n",
       "    <tr>\n",
       "      <th>2</th>\n",
       "      <td>batch5.txt</td>\n",
       "      <td>90.20</td>\n",
       "      <td>3</td>\n",
       "    </tr>\n",
       "  </tbody>\n",
       "</table>\n",
       "</div>"
      ],
      "text/plain": [
       "         file      mz  kegID\n",
       "0  study1.txt   89.10      0\n",
       "1  study1.txt   90.20      1\n",
       "0  batch2.txt  300.45      4\n",
       "1  batch2.txt   80.10      5\n",
       "2  batch2.txt   90.20      6\n",
       "0  batch3.txt  300.45      4\n",
       "1  batch3.txt   80.10      5\n",
       "2  batch3.txt   90.20      6\n",
       "0  batch4.txt   30.45      5\n",
       "1  batch4.txt    0.10      6\n",
       "2  batch4.txt   90.20      7\n",
       "0  batch5.txt    3.45      1\n",
       "1  batch5.txt    8.10      2\n",
       "2  batch5.txt   90.20      3"
      ]
     },
     "execution_count": 106,
     "metadata": {},
     "output_type": "execute_result"
    }
   ],
   "source": [
    "dfs = [d1, d2, d3, d4, d5]\n",
    "df_merged = pd.DataFrame()\n",
    "\n",
    "for df in dfs:\n",
    "    df_merged = df_merged.append(df) # = df, how = 'right')]\n",
    "\n",
    "df_merged"
   ]
  },
  {
   "cell_type": "markdown",
   "metadata": {},
   "source": [
    "#### Find mz's that show up in more than one file"
   ]
  },
  {
   "cell_type": "code",
   "execution_count": 107,
   "metadata": {},
   "outputs": [
    {
     "data": {
      "text/plain": [
       "90.20      True\n",
       "300.45     True\n",
       "80.10      True\n",
       "30.45     False\n",
       "0.10      False\n",
       "89.10     False\n",
       "8.10      False\n",
       "3.45      False\n",
       "Name: mz, dtype: bool"
      ]
     },
     "execution_count": 107,
     "metadata": {},
     "output_type": "execute_result"
    }
   ],
   "source": [
    "common_mz = df_merged['mz'].value_counts() > 1\n",
    "common_mz"
   ]
  },
  {
   "cell_type": "code",
   "execution_count": 108,
   "metadata": {},
   "outputs": [
    {
     "data": {
      "text/plain": [
       "[90.2, 300.45, 80.1]"
      ]
     },
     "execution_count": 108,
     "metadata": {},
     "output_type": "execute_result"
    }
   ],
   "source": [
    "common_mz = common_mz[common_mz == True].index.to_list()\n",
    "common_mz"
   ]
  },
  {
   "cell_type": "markdown",
   "metadata": {},
   "source": [
    "#### Pull out these shared mz's from all files"
   ]
  },
  {
   "cell_type": "code",
   "execution_count": 109,
   "metadata": {},
   "outputs": [
    {
     "data": {
      "text/html": [
       "<div>\n",
       "<style scoped>\n",
       "    .dataframe tbody tr th:only-of-type {\n",
       "        vertical-align: middle;\n",
       "    }\n",
       "\n",
       "    .dataframe tbody tr th {\n",
       "        vertical-align: top;\n",
       "    }\n",
       "\n",
       "    .dataframe thead th {\n",
       "        text-align: right;\n",
       "    }\n",
       "</style>\n",
       "<table border=\"1\" class=\"dataframe\">\n",
       "  <thead>\n",
       "    <tr style=\"text-align: right;\">\n",
       "      <th></th>\n",
       "      <th>file</th>\n",
       "      <th>mz</th>\n",
       "      <th>kegID</th>\n",
       "    </tr>\n",
       "  </thead>\n",
       "  <tbody>\n",
       "    <tr>\n",
       "      <th>1</th>\n",
       "      <td>batch2.txt</td>\n",
       "      <td>80.10</td>\n",
       "      <td>5</td>\n",
       "    </tr>\n",
       "    <tr>\n",
       "      <th>1</th>\n",
       "      <td>batch3.txt</td>\n",
       "      <td>80.10</td>\n",
       "      <td>5</td>\n",
       "    </tr>\n",
       "    <tr>\n",
       "      <th>1</th>\n",
       "      <td>study1.txt</td>\n",
       "      <td>90.20</td>\n",
       "      <td>1</td>\n",
       "    </tr>\n",
       "    <tr>\n",
       "      <th>2</th>\n",
       "      <td>batch2.txt</td>\n",
       "      <td>90.20</td>\n",
       "      <td>6</td>\n",
       "    </tr>\n",
       "    <tr>\n",
       "      <th>2</th>\n",
       "      <td>batch3.txt</td>\n",
       "      <td>90.20</td>\n",
       "      <td>6</td>\n",
       "    </tr>\n",
       "    <tr>\n",
       "      <th>2</th>\n",
       "      <td>batch4.txt</td>\n",
       "      <td>90.20</td>\n",
       "      <td>7</td>\n",
       "    </tr>\n",
       "    <tr>\n",
       "      <th>2</th>\n",
       "      <td>batch5.txt</td>\n",
       "      <td>90.20</td>\n",
       "      <td>3</td>\n",
       "    </tr>\n",
       "    <tr>\n",
       "      <th>0</th>\n",
       "      <td>batch2.txt</td>\n",
       "      <td>300.45</td>\n",
       "      <td>4</td>\n",
       "    </tr>\n",
       "    <tr>\n",
       "      <th>0</th>\n",
       "      <td>batch3.txt</td>\n",
       "      <td>300.45</td>\n",
       "      <td>4</td>\n",
       "    </tr>\n",
       "  </tbody>\n",
       "</table>\n",
       "</div>"
      ],
      "text/plain": [
       "         file      mz  kegID\n",
       "1  batch2.txt   80.10      5\n",
       "1  batch3.txt   80.10      5\n",
       "1  study1.txt   90.20      1\n",
       "2  batch2.txt   90.20      6\n",
       "2  batch3.txt   90.20      6\n",
       "2  batch4.txt   90.20      7\n",
       "2  batch5.txt   90.20      3\n",
       "0  batch2.txt  300.45      4\n",
       "0  batch3.txt  300.45      4"
      ]
     },
     "execution_count": 109,
     "metadata": {},
     "output_type": "execute_result"
    }
   ],
   "source": [
    "df_merged.loc[df_merged['mz'].isin(common_mz)].sort_values(by='mz')"
   ]
  },
  {
   "cell_type": "code",
   "execution_count": null,
   "metadata": {},
   "outputs": [],
   "source": []
  }
 ],
 "metadata": {
  "kernelspec": {
   "display_name": "Python 3",
   "language": "python",
   "name": "python3"
  },
  "language_info": {
   "codemirror_mode": {
    "name": "ipython",
    "version": 3
   },
   "file_extension": ".py",
   "mimetype": "text/x-python",
   "name": "python",
   "nbconvert_exporter": "python",
   "pygments_lexer": "ipython3",
   "version": "3.7.3"
  }
 },
 "nbformat": 4,
 "nbformat_minor": 2
}
